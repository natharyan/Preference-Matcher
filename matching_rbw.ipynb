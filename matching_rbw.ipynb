{
 "cells": [
  {
   "cell_type": "code",
   "execution_count": 2,
   "metadata": {},
   "outputs": [
    {
     "name": "stdout",
     "output_type": "stream",
     "text": [
      "{'Aryan Nath': [0, 0, 0, 0, 0], 'Aryan': [1, 2, 2, 1, 3], 'Anshika ': [4, 3, 2, 1, 2], 'Kartika Jamdar': [4, 0, 1, 1, 1], 'Muskan Tanwani ': [3, 2, 1, 2, 1], 'Stuti': [1, 0, 1, 1, 2], 'binati': [4, 0, 1, 2, 1]}\n",
      "{'Aryan Nath': ['Stuti', 'Aryan', 'Kartika Jamdar', 'Muskan Tanwani ', 'binati', 'Anshika '], 'Aryan': ['Stuti', 'Muskan Tanwani ', 'Anshika ', 'Kartika Jamdar', 'Aryan Nath', 'binati'], 'Anshika ': ['Muskan Tanwani ', 'Aryan', 'Kartika Jamdar', 'binati', 'Stuti', 'Aryan Nath'], 'Kartika Jamdar': ['binati', 'Muskan Tanwani ', 'Stuti', 'Anshika ', 'Aryan', 'Aryan Nath'], 'Muskan Tanwani ': ['Anshika ', 'binati', 'Kartika Jamdar', 'Aryan', 'Stuti', 'Aryan Nath'], 'Stuti': ['Aryan', 'Aryan Nath', 'Kartika Jamdar', 'Muskan Tanwani ', 'binati', 'Anshika '], 'binati': ['Kartika Jamdar', 'Muskan Tanwani ', 'Stuti', 'Anshika ', 'Aryan', 'Aryan Nath']}\n",
      "{('Anshika ', 'Muskan Tanwani '), ('binati', 'Kartika Jamdar'), ('Aryan', 'Stuti')}\n"
     ]
    }
   ],
   "source": [
    "import csv\n",
    "import numpy as np\n",
    "import networkx as nx\n",
    "\n",
    "options = {0: ['Friend', 'Partner', 'Parents', 'Pet', 'Myself'],\n",
    " 1: ['I like reading poems', 'I like listening to lyrical poems and ghazals', 'I attend recitals or open-mics or live performances', 'I enjoy watching videos'],\n",
    " 2: ['Radiant Red', 'Ocean Blue', 'Golden Yellow', 'Glossy Green'],\n",
    " 3: ['Couplet', 'Free Verse', 'Spoken Word', 'Ghazal'],\n",
    " 4: ['Melancholic', 'Reflective', 'Romantic', 'Cheerful']}\n",
    "\n",
    "# link each name to a 5 dimensional array\n",
    "candidates = {}\n",
    "with open('matchmaking.csv','r') as file:\n",
    "    reader = csv.reader(file)\n",
    "    header = next(reader)\n",
    "    for i,row in enumerate(reader):\n",
    "        candidates[row[2]] = list(map(lambda s: options[row.index(s) - 3].index(s),row[3:8]))\n",
    "print(candidates)\n",
    "\n",
    "# calculate the distance between points p1 and p2\n",
    "def calculate_distance(p1,p2):\n",
    "    return np.linalg.norm(np.array(p1) - np.array(p2))\n",
    "\n",
    "# rank the distances for each corresponding array\n",
    "distances = {}\n",
    "for i in candidates:\n",
    "    tmp_candidates = candidates.copy()\n",
    "    tmp_candidates.pop(i)\n",
    "    distances[i] = sorted(tmp_candidates.keys(),key=lambda s: calculate_distance(candidates[i],candidates[s]))\n",
    "    \n",
    "print(distances)\n",
    "\n",
    "# create a minimum weighted graph with the distances corresponding to each node\n",
    "G = nx.Graph()\n",
    "for person, preferences in distances.items():\n",
    "  for other_person in preferences:\n",
    "    G.add_edge(person, other_person, weight=preferences.index(other_person))\n",
    "\n",
    "matching = nx.min_weight_matching(G)\n",
    "\n",
    "print(matching)\n",
    "\n",
    "with open('matches.csv','w') as f:\n",
    "   writer = csv.writer(f)\n",
    "   for elem in matching:\n",
    "      writer.writerow(elem)"
   ]
  },
  {
   "cell_type": "code",
   "execution_count": null,
   "metadata": {},
   "outputs": [],
   "source": []
  }
 ],
 "metadata": {
  "kernelspec": {
   "display_name": "base",
   "language": "python",
   "name": "python3"
  },
  "language_info": {
   "codemirror_mode": {
    "name": "ipython",
    "version": 3
   },
   "file_extension": ".py",
   "mimetype": "text/x-python",
   "name": "python",
   "nbconvert_exporter": "python",
   "pygments_lexer": "ipython3",
   "version": "3.11.4"
  },
  "orig_nbformat": 4
 },
 "nbformat": 4,
 "nbformat_minor": 2
}
